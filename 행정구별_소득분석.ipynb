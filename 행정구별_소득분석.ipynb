{
 "cells": [
  {
   "cell_type": "code",
   "execution_count": 1,
   "id": "9edbe88f-77c4-499a-97fe-1544526ac90f",
   "metadata": {},
   "outputs": [],
   "source": [
    "import pandas as pd"
   ]
  },
  {
   "cell_type": "code",
   "execution_count": 28,
   "id": "d9c04e0a-95d7-409e-9924-c404439b8766",
   "metadata": {},
   "outputs": [],
   "source": [
    "df = pd.read_csv('행정구별_상주인구_소득_소비.csv', encoding = 'utf-8')\n",
    "df.drop(['Unnamed: 0'], axis = 1, inplace = True)"
   ]
  },
  {
   "cell_type": "code",
   "execution_count": 29,
   "id": "26555346-ecc4-43d7-bdd0-cc0aec639fb0",
   "metadata": {},
   "outputs": [],
   "source": [
    "from sklearn.preprocessing import LabelEncoder\n",
    "\n",
    "label_encoder = LabelEncoder()\n",
    "\n",
    "# \"district\" 열을 레이블 인코딩\n",
    "df['district_encoded'] = label_encoder.fit_transform(df['district'])\n",
    "df.drop(['district'], axis = 1, inplace = True)\n",
    "\n",
    "df['population_2023'] = df['population_2023'].str.replace(',', '', regex=True).astype(float)\n",
    "df['population_2024'] = df['population_2024'].str.replace(',', '', regex=True).astype(float)\n"
   ]
  },
  {
   "cell_type": "code",
   "execution_count": 30,
   "id": "218e76f9-57d1-486e-aec7-684e6d87afed",
   "metadata": {},
   "outputs": [],
   "source": [
    "df = df.dropna()"
   ]
  },
  {
   "cell_type": "code",
   "execution_count": 33,
   "id": "c8894616-0153-4025-b690-c85551cb4ea9",
   "metadata": {},
   "outputs": [
    {
     "name": "stdout",
     "output_type": "stream",
     "text": [
      "평균 제곱 오차 (MSE): 4524355.638066666\n",
      "R-squared (R^2): 0.8308851339004815\n"
     ]
    }
   ],
   "source": [
    "# 특성 변수 (독립 변수)\n",
    "X = df.drop('Income_population', axis=1)\n",
    "\n",
    "# 타깃 변수 (종속 변수)\n",
    "y = df['Income_population']\n",
    "\n",
    "# 랜덤 포레스트 모델 생성\n",
    "rf_model = RandomForestRegressor(n_estimators=100, random_state=42)  # 100개의 트리를 사용\n",
    "\n",
    "# 모델 훈련\n",
    "rf_model.fit(X, y)\n",
    "\n",
    "# 예측\n",
    "y_pred = rf_model.predict(X)\n",
    "\n",
    "# 모델 평가 (예를 들어, 평균 제곱 오차 및 R-squared)\n",
    "mse = mean_squared_error(y, y_pred)\n",
    "r2 = r2_score(y, y_pred)\n",
    "\n",
    "print(f\"평균 제곱 오차 (MSE): {mse}\")\n",
    "print(f\"R-squared (R^2): {r2}\")\n"
   ]
  },
  {
   "cell_type": "code",
   "execution_count": null,
   "id": "71213a3b-75fd-4bb3-84b6-5dcb21010cba",
   "metadata": {},
   "outputs": [],
   "source": []
  }
 ],
 "metadata": {
  "kernelspec": {
   "display_name": "Python 3 (ipykernel)",
   "language": "python",
   "name": "python3"
  },
  "language_info": {
   "codemirror_mode": {
    "name": "ipython",
    "version": 3
   },
   "file_extension": ".py",
   "mimetype": "text/x-python",
   "name": "python",
   "nbconvert_exporter": "python",
   "pygments_lexer": "ipython3",
   "version": "3.9.13"
  }
 },
 "nbformat": 4,
 "nbformat_minor": 5
}
