{
 "cells": [
  {
   "cell_type": "code",
   "execution_count": 22,
   "id": "d056a3da-e4bd-41b7-99ae-beea99e2f032",
   "metadata": {},
   "outputs": [],
   "source": [
    "import pandas as pd"
   ]
  },
  {
   "cell_type": "code",
   "execution_count": 23,
   "id": "c4db0994-228e-4ded-9e14-b3ed7a1805b6",
   "metadata": {},
   "outputs": [],
   "source": [
    "df = pd.read_csv('bankxy.csv')"
   ]
  },
  {
   "cell_type": "code",
   "execution_count": 24,
   "id": "70e3946b-333f-470e-8735-75ecd5136c3e",
   "metadata": {},
   "outputs": [],
   "source": [
    "df.drop(['Unnamed: 0'], axis =1, inplace = True)"
   ]
  },
  {
   "cell_type": "code",
   "execution_count": 25,
   "id": "32c69b58-f896-45c8-a442-31def43a82c9",
   "metadata": {},
   "outputs": [],
   "source": [
    "df['result'] = df['result'].str.strip('()')\n",
    "df[['x', 'y']] = df['result'].str.split(', ', expand=True)\n"
   ]
  },
  {
   "cell_type": "code",
   "execution_count": 26,
   "id": "a15642a2-b042-4e88-b3b5-8aedc8e1f7d7",
   "metadata": {},
   "outputs": [],
   "source": [
    "df.drop(['result'], axis =1, inplace = True)"
   ]
  },
  {
   "cell_type": "code",
   "execution_count": 31,
   "id": "62480126-b53e-40a8-9f9b-c69c6a4ec8c6",
   "metadata": {},
   "outputs": [
    {
     "data": {
      "text/html": [
       "<div>\n",
       "<style scoped>\n",
       "    .dataframe tbody tr th:only-of-type {\n",
       "        vertical-align: middle;\n",
       "    }\n",
       "\n",
       "    .dataframe tbody tr th {\n",
       "        vertical-align: top;\n",
       "    }\n",
       "\n",
       "    .dataframe thead th {\n",
       "        text-align: right;\n",
       "    }\n",
       "</style>\n",
       "<table border=\"1\" class=\"dataframe\">\n",
       "  <thead>\n",
       "    <tr style=\"text-align: right;\">\n",
       "      <th></th>\n",
       "      <th>bank</th>\n",
       "      <th>name</th>\n",
       "      <th>address</th>\n",
       "      <th>x</th>\n",
       "      <th>y</th>\n",
       "    </tr>\n",
       "  </thead>\n",
       "  <tbody>\n",
       "    <tr>\n",
       "      <th>0</th>\n",
       "      <td>NH농협은행</td>\n",
       "      <td>NH금융PLUS 광화문역센터</td>\n",
       "      <td>서울특별시 종로구 신문로1가 세종대로 149</td>\n",
       "      <td>37.5701894</td>\n",
       "      <td>126.9739225</td>\n",
       "    </tr>\n",
       "    <tr>\n",
       "      <th>1</th>\n",
       "      <td>NH농협은행</td>\n",
       "      <td>NH금융PLUS 반포역센터</td>\n",
       "      <td>서울특별시 서초구 반포동 잠원로 24</td>\n",
       "      <td>37.5071264</td>\n",
       "      <td>127.0098413</td>\n",
       "    </tr>\n",
       "    <tr>\n",
       "      <th>2</th>\n",
       "      <td>NH농협은행</td>\n",
       "      <td>NH금융PLUS 파크원센터</td>\n",
       "      <td>서울특별시 영등포구 여의도동 여의대로 108</td>\n",
       "      <td>37.5260497</td>\n",
       "      <td>126.928296</td>\n",
       "    </tr>\n",
       "    <tr>\n",
       "      <th>3</th>\n",
       "      <td>NH농협은행</td>\n",
       "      <td>aT센터지점</td>\n",
       "      <td>서울특별시 서초구 양재동 강남대로 27</td>\n",
       "      <td>37.4786172</td>\n",
       "      <td>127.0360752</td>\n",
       "    </tr>\n",
       "    <tr>\n",
       "      <th>4</th>\n",
       "      <td>NH농협은행</td>\n",
       "      <td>가락동지점</td>\n",
       "      <td>서울특별시 송파구 가락동 중대로9길 60</td>\n",
       "      <td>37.4976231</td>\n",
       "      <td>127.1201545</td>\n",
       "    </tr>\n",
       "    <tr>\n",
       "      <th>...</th>\n",
       "      <td>...</td>\n",
       "      <td>...</td>\n",
       "      <td>...</td>\n",
       "      <td>...</td>\n",
       "      <td>...</td>\n",
       "    </tr>\n",
       "    <tr>\n",
       "      <th>1687</th>\n",
       "      <td>하나은행</td>\n",
       "      <td>홍제역</td>\n",
       "      <td>서울특별시 서대문구 홍제3동 통일로 472 (홍제동)</td>\n",
       "      <td>37.5928868</td>\n",
       "      <td>126.9489057</td>\n",
       "    </tr>\n",
       "    <tr>\n",
       "      <th>1688</th>\n",
       "      <td>하나은행</td>\n",
       "      <td>화곡역</td>\n",
       "      <td>서울특별시 강서구 화곡3동 강서로 183 (화곡동)</td>\n",
       "      <td>37.5426123</td>\n",
       "      <td>126.8390992</td>\n",
       "    </tr>\n",
       "    <tr>\n",
       "      <th>1689</th>\n",
       "      <td>하나은행</td>\n",
       "      <td>화양동</td>\n",
       "      <td>서울특별시 광진구 화양동 동일로 180 (화양동)</td>\n",
       "      <td>37.5477084</td>\n",
       "      <td>127.0716418</td>\n",
       "    </tr>\n",
       "    <tr>\n",
       "      <th>1690</th>\n",
       "      <td>하나은행</td>\n",
       "      <td>휘경동</td>\n",
       "      <td>서울특별시 동대문구 회기동 회기로 175 (회기동)</td>\n",
       "      <td>37.590427</td>\n",
       "      <td>127.0557345</td>\n",
       "    </tr>\n",
       "    <tr>\n",
       "      <th>1691</th>\n",
       "      <td>하나은행</td>\n",
       "      <td>흑석뉴타운</td>\n",
       "      <td>서울특별시 동작구 흑석동 흑석한강로 2 (흑석동)</td>\n",
       "      <td>37.506598</td>\n",
       "      <td>126.9664777</td>\n",
       "    </tr>\n",
       "  </tbody>\n",
       "</table>\n",
       "<p>1692 rows × 5 columns</p>\n",
       "</div>"
      ],
      "text/plain": [
       "        bank             name                        address           x  \\\n",
       "0     NH농협은행  NH금융PLUS 광화문역센터       서울특별시 종로구 신문로1가 세종대로 149  37.5701894   \n",
       "1     NH농협은행   NH금융PLUS 반포역센터           서울특별시 서초구 반포동 잠원로 24  37.5071264   \n",
       "2     NH농협은행   NH금융PLUS 파크원센터       서울특별시 영등포구 여의도동 여의대로 108  37.5260497   \n",
       "3     NH농협은행           aT센터지점          서울특별시 서초구 양재동 강남대로 27  37.4786172   \n",
       "4     NH농협은행            가락동지점         서울특별시 송파구 가락동 중대로9길 60  37.4976231   \n",
       "...      ...              ...                            ...         ...   \n",
       "1687    하나은행              홍제역  서울특별시 서대문구 홍제3동 통일로 472 (홍제동)  37.5928868   \n",
       "1688    하나은행              화곡역   서울특별시 강서구 화곡3동 강서로 183 (화곡동)  37.5426123   \n",
       "1689    하나은행              화양동    서울특별시 광진구 화양동 동일로 180 (화양동)  37.5477084   \n",
       "1690    하나은행              휘경동   서울특별시 동대문구 회기동 회기로 175 (회기동)   37.590427   \n",
       "1691    하나은행            흑석뉴타운    서울특별시 동작구 흑석동 흑석한강로 2 (흑석동)   37.506598   \n",
       "\n",
       "                y  \n",
       "0     126.9739225  \n",
       "1     127.0098413  \n",
       "2      126.928296  \n",
       "3     127.0360752  \n",
       "4     127.1201545  \n",
       "...           ...  \n",
       "1687  126.9489057  \n",
       "1688  126.8390992  \n",
       "1689  127.0716418  \n",
       "1690  127.0557345  \n",
       "1691  126.9664777  \n",
       "\n",
       "[1692 rows x 5 columns]"
      ]
     },
     "execution_count": 31,
     "metadata": {},
     "output_type": "execute_result"
    }
   ],
   "source": [
    "df"
   ]
  },
  {
   "cell_type": "code",
   "execution_count": 32,
   "id": "bfd262e4-e177-4782-af2e-cb54f7eddd1c",
   "metadata": {},
   "outputs": [],
   "source": [
    "df['행정구'] = df['address'].str.split().str[1]"
   ]
  },
  {
   "cell_type": "code",
   "execution_count": 34,
   "id": "3c9be8c4-9c06-45a8-899e-2ae53954d48a",
   "metadata": {},
   "outputs": [],
   "source": [
    "df.to_csv('bank_xy.csv', encoding = 'utf-8-sig')"
   ]
  },
  {
   "cell_type": "code",
   "execution_count": null,
   "id": "05405140-b45e-4f95-8e34-8957438bdcdd",
   "metadata": {},
   "outputs": [],
   "source": []
  }
 ],
 "metadata": {
  "kernelspec": {
   "display_name": "Python 3 (ipykernel)",
   "language": "python",
   "name": "python3"
  },
  "language_info": {
   "codemirror_mode": {
    "name": "ipython",
    "version": 3
   },
   "file_extension": ".py",
   "mimetype": "text/x-python",
   "name": "python",
   "nbconvert_exporter": "python",
   "pygments_lexer": "ipython3",
   "version": "3.9.13"
  }
 },
 "nbformat": 4,
 "nbformat_minor": 5
}
