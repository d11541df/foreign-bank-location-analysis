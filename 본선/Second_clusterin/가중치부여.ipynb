{
 "cells": [
  {
   "cell_type": "code",
   "execution_count": 15,
   "id": "0a841736-e4fe-4485-a827-d885492623fe",
   "metadata": {},
   "outputs": [],
   "source": [
    "import pandas as pd"
   ]
  },
  {
   "cell_type": "code",
   "execution_count": 29,
   "id": "451af537-66ad-455a-bc95-75bc334cf43e",
   "metadata": {},
   "outputs": [],
   "source": [
    "cols = ['행정구','2024_population','bank_count', 'company_count', 'Income']\n",
    "df = pd.read_csv('클러스터링_실루엣_적용한거.csv', usecols = cols)"
   ]
  },
  {
   "cell_type": "code",
   "execution_count": 30,
   "id": "7eb7148c-77b7-4e93-8fb4-f547ed397a24",
   "metadata": {},
   "outputs": [],
   "source": [
    "selected_gu = ['강서구', '마포구', '용산구', '성동구', '동작구', '종로구', '동대문구', '광진구', '송파구']\n",
    "filtered_df = df[df['행정구'].isin(selected_gu)]"
   ]
  },
  {
   "cell_type": "code",
   "execution_count": 31,
   "id": "0516b698-2906-4c0c-9aae-74149d070cbe",
   "metadata": {},
   "outputs": [],
   "source": [
    "filtered_df = filtered_df.reset_index()"
   ]
  },
  {
   "cell_type": "code",
   "execution_count": 32,
   "id": "e1f02e9f-2b5b-4ab6-9241-45fd73250787",
   "metadata": {},
   "outputs": [],
   "source": [
    "filtered_df.drop(['index'], axis =1 , inplace = True)"
   ]
  },
  {
   "cell_type": "code",
   "execution_count": 33,
   "id": "1284b9a8-655b-415d-aecd-fb1e43224ba0",
   "metadata": {},
   "outputs": [],
   "source": [
    "from sklearn.preprocessing import MinMaxScaler\n",
    "\n",
    "# Min-Max 스케일러 생성\n",
    "scaler = MinMaxScaler()\n",
    "\n",
    "columns_to_scale = ['2024_population', 'bank_count', 'company_count', 'Income']\n",
    "\n",
    "# 선택한 열에 Min-Max 스케일링 적용\n",
    "filtered_df[columns_to_scale] = scaler.fit_transform(filtered_df[columns_to_scale])"
   ]
  },
  {
   "cell_type": "code",
   "execution_count": 35,
   "id": "3a05439d-1552-4493-a7e7-f68b1aad2afc",
   "metadata": {},
   "outputs": [
    {
     "data": {
      "text/html": [
       "<div>\n",
       "<style scoped>\n",
       "    .dataframe tbody tr th:only-of-type {\n",
       "        vertical-align: middle;\n",
       "    }\n",
       "\n",
       "    .dataframe tbody tr th {\n",
       "        vertical-align: top;\n",
       "    }\n",
       "\n",
       "    .dataframe thead th {\n",
       "        text-align: right;\n",
       "    }\n",
       "</style>\n",
       "<table border=\"1\" class=\"dataframe\">\n",
       "  <thead>\n",
       "    <tr style=\"text-align: right;\">\n",
       "      <th></th>\n",
       "      <th>행정구</th>\n",
       "      <th>2024_population</th>\n",
       "      <th>bank_count</th>\n",
       "      <th>company_count</th>\n",
       "      <th>Income</th>\n",
       "    </tr>\n",
       "  </thead>\n",
       "  <tbody>\n",
       "    <tr>\n",
       "      <th>0</th>\n",
       "      <td>강서구</td>\n",
       "      <td>0.387530</td>\n",
       "      <td>0.000000</td>\n",
       "      <td>0.062228</td>\n",
       "      <td>0.398501</td>\n",
       "    </tr>\n",
       "    <tr>\n",
       "      <th>1</th>\n",
       "      <td>광진구</td>\n",
       "      <td>0.570623</td>\n",
       "      <td>0.362172</td>\n",
       "      <td>0.390329</td>\n",
       "      <td>0.008685</td>\n",
       "    </tr>\n",
       "    <tr>\n",
       "      <th>2</th>\n",
       "      <td>동대문구</td>\n",
       "      <td>0.949859</td>\n",
       "      <td>0.778411</td>\n",
       "      <td>1.000000</td>\n",
       "      <td>0.000000</td>\n",
       "    </tr>\n",
       "    <tr>\n",
       "      <th>3</th>\n",
       "      <td>동작구</td>\n",
       "      <td>0.797649</td>\n",
       "      <td>0.377156</td>\n",
       "      <td>0.231621</td>\n",
       "      <td>0.292745</td>\n",
       "    </tr>\n",
       "    <tr>\n",
       "      <th>4</th>\n",
       "      <td>마포구</td>\n",
       "      <td>0.542286</td>\n",
       "      <td>0.661467</td>\n",
       "      <td>0.628928</td>\n",
       "      <td>0.572888</td>\n",
       "    </tr>\n",
       "    <tr>\n",
       "      <th>5</th>\n",
       "      <td>성동구</td>\n",
       "      <td>0.000000</td>\n",
       "      <td>0.594028</td>\n",
       "      <td>0.685660</td>\n",
       "      <td>0.579019</td>\n",
       "    </tr>\n",
       "    <tr>\n",
       "      <th>6</th>\n",
       "      <td>송파구</td>\n",
       "      <td>1.000000</td>\n",
       "      <td>0.814812</td>\n",
       "      <td>0.522345</td>\n",
       "      <td>0.910252</td>\n",
       "    </tr>\n",
       "    <tr>\n",
       "      <th>7</th>\n",
       "      <td>용산구</td>\n",
       "      <td>0.355619</td>\n",
       "      <td>0.586345</td>\n",
       "      <td>0.000000</td>\n",
       "      <td>1.000000</td>\n",
       "    </tr>\n",
       "    <tr>\n",
       "      <th>8</th>\n",
       "      <td>종로구</td>\n",
       "      <td>0.326735</td>\n",
       "      <td>1.000000</td>\n",
       "      <td>0.417952</td>\n",
       "      <td>0.318120</td>\n",
       "    </tr>\n",
       "  </tbody>\n",
       "</table>\n",
       "</div>"
      ],
      "text/plain": [
       "    행정구  2024_population  bank_count  company_count    Income\n",
       "0   강서구         0.387530    0.000000       0.062228  0.398501\n",
       "1   광진구         0.570623    0.362172       0.390329  0.008685\n",
       "2  동대문구         0.949859    0.778411       1.000000  0.000000\n",
       "3   동작구         0.797649    0.377156       0.231621  0.292745\n",
       "4   마포구         0.542286    0.661467       0.628928  0.572888\n",
       "5   성동구         0.000000    0.594028       0.685660  0.579019\n",
       "6   송파구         1.000000    0.814812       0.522345  0.910252\n",
       "7   용산구         0.355619    0.586345       0.000000  1.000000\n",
       "8   종로구         0.326735    1.000000       0.417952  0.318120"
      ]
     },
     "execution_count": 35,
     "metadata": {},
     "output_type": "execute_result"
    }
   ],
   "source": [
    "filtered_df"
   ]
  },
  {
   "cell_type": "code",
   "execution_count": 36,
   "id": "6f4b2368-46bb-48c7-a311-95df88b6e0ae",
   "metadata": {},
   "outputs": [
    {
     "name": "stdout",
     "output_type": "stream",
     "text": [
      "    행정구     Score  Rank\n",
      "0   강서구  0.139610     5\n",
      "1   광진구 -0.000150     8\n",
      "2  동대문구 -0.008831     9\n",
      "3   동작구  0.088077     6\n",
      "4   마포구  0.153663     3\n",
      "5   성동구  0.146895     4\n",
      "6   송파구  0.253967     2\n",
      "7   용산구  0.263342     1\n",
      "8   종로구  0.023754     7\n"
     ]
    }
   ],
   "source": [
    "weights = {\n",
    "    'bank_count': -0.103,\n",
    "    'company_count': 0.040,\n",
    "    'Income': 0.312,\n",
    "    '2024_population': 0.033\n",
    "}\n",
    "\n",
    "# 행정구에 대한 점수 계산\n",
    "filtered_df['Score'] = 0\n",
    "for column, weight in weights.items():\n",
    "    filtered_df['Score'] += filtered_df[column] * weight\n",
    "\n",
    "# 점수를 기준으로 순위(rank) 매기기\n",
    "filtered_df['Rank'] = filtered_df['Score'].rank(ascending=False).astype(int)\n",
    "\n",
    "# 결과 출력\n",
    "print(filtered_df[['행정구', 'Score', 'Rank']])"
   ]
  },
  {
   "cell_type": "code",
   "execution_count": null,
   "id": "f3416826-72d1-4402-a5d9-b6ac4f60a9ac",
   "metadata": {},
   "outputs": [],
   "source": []
  },
  {
   "cell_type": "code",
   "execution_count": 39,
   "id": "c34e7b3e-20d7-4b52-9a43-e5193a17c1a7",
   "metadata": {},
   "outputs": [],
   "source": [
    "sorted_df = filtered_df.sort_values(by='Rank')"
   ]
  },
  {
   "cell_type": "code",
   "execution_count": 41,
   "id": "a94faffa-1885-4ae1-9c46-38c27782640a",
   "metadata": {},
   "outputs": [],
   "source": [
    "sorted_df.to_csv('구별_가중치.csv', encoding ='utf-8-sig')"
   ]
  },
  {
   "cell_type": "code",
   "execution_count": null,
   "id": "0f4816ca-a675-491f-8afa-e15e8e5969b8",
   "metadata": {},
   "outputs": [],
   "source": []
  }
 ],
 "metadata": {
  "kernelspec": {
   "display_name": "Python 3 (ipykernel)",
   "language": "python",
   "name": "python3"
  },
  "language_info": {
   "codemirror_mode": {
    "name": "ipython",
    "version": 3
   },
   "file_extension": ".py",
   "mimetype": "text/x-python",
   "name": "python",
   "nbconvert_exporter": "python",
   "pygments_lexer": "ipython3",
   "version": "3.9.13"
  }
 },
 "nbformat": 4,
 "nbformat_minor": 5
}
