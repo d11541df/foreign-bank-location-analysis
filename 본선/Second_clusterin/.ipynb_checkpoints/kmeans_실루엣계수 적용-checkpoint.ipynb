{
 "cells": [
  {
   "cell_type": "code",
   "execution_count": 1,
   "id": "0a841736-e4fe-4485-a827-d885492623fe",
   "metadata": {},
   "outputs": [],
   "source": [
    "import pandas as pd"
   ]
  },
  {
   "cell_type": "code",
   "execution_count": 16,
   "id": "c6fe9a86-ed3d-4762-9254-4e7f9516db38",
   "metadata": {},
   "outputs": [],
   "source": [
    "cols = ['행정구명', '행정동명', '합계']\n",
    "df = pd.read_excel('numberOfBankPerDong.xlsx', usecols= cols)"
   ]
  },
  {
   "cell_type": "code",
   "execution_count": 19,
   "id": "e2793ade-a239-494c-b10d-3e7be6dbeff0",
   "metadata": {},
   "outputs": [],
   "source": [
    "df.rename(columns = {'합계': 'bank_count'},inplace = True)"
   ]
  },
  {
   "cell_type": "code",
   "execution_count": 20,
   "id": "776ea60d-d5b1-46f4-88bc-e66ad724e564",
   "metadata": {},
   "outputs": [
    {
     "data": {
      "text/html": [
       "<div>\n",
       "<style scoped>\n",
       "    .dataframe tbody tr th:only-of-type {\n",
       "        vertical-align: middle;\n",
       "    }\n",
       "\n",
       "    .dataframe tbody tr th {\n",
       "        vertical-align: top;\n",
       "    }\n",
       "\n",
       "    .dataframe thead th {\n",
       "        text-align: right;\n",
       "    }\n",
       "</style>\n",
       "<table border=\"1\" class=\"dataframe\">\n",
       "  <thead>\n",
       "    <tr style=\"text-align: right;\">\n",
       "      <th></th>\n",
       "      <th>행정구명</th>\n",
       "      <th>행정동명</th>\n",
       "      <th>bank_count</th>\n",
       "    </tr>\n",
       "  </thead>\n",
       "  <tbody>\n",
       "    <tr>\n",
       "      <th>0</th>\n",
       "      <td>종로구</td>\n",
       "      <td>사직동</td>\n",
       "      <td>17</td>\n",
       "    </tr>\n",
       "    <tr>\n",
       "      <th>1</th>\n",
       "      <td>종로구</td>\n",
       "      <td>삼청동</td>\n",
       "      <td>3</td>\n",
       "    </tr>\n",
       "    <tr>\n",
       "      <th>2</th>\n",
       "      <td>종로구</td>\n",
       "      <td>부암동</td>\n",
       "      <td>1</td>\n",
       "    </tr>\n",
       "    <tr>\n",
       "      <th>3</th>\n",
       "      <td>종로구</td>\n",
       "      <td>평창동</td>\n",
       "      <td>5</td>\n",
       "    </tr>\n",
       "    <tr>\n",
       "      <th>4</th>\n",
       "      <td>종로구</td>\n",
       "      <td>무악동</td>\n",
       "      <td>1</td>\n",
       "    </tr>\n",
       "    <tr>\n",
       "      <th>...</th>\n",
       "      <td>...</td>\n",
       "      <td>...</td>\n",
       "      <td>...</td>\n",
       "    </tr>\n",
       "    <tr>\n",
       "      <th>421</th>\n",
       "      <td>강동구</td>\n",
       "      <td>천호2동</td>\n",
       "      <td>3</td>\n",
       "    </tr>\n",
       "    <tr>\n",
       "      <th>422</th>\n",
       "      <td>강동구</td>\n",
       "      <td>길동</td>\n",
       "      <td>7</td>\n",
       "    </tr>\n",
       "    <tr>\n",
       "      <th>423</th>\n",
       "      <td>강동구</td>\n",
       "      <td>강일동</td>\n",
       "      <td>0</td>\n",
       "    </tr>\n",
       "    <tr>\n",
       "      <th>424</th>\n",
       "      <td>강동구</td>\n",
       "      <td>상일1동</td>\n",
       "      <td>2</td>\n",
       "    </tr>\n",
       "    <tr>\n",
       "      <th>425</th>\n",
       "      <td>강동구</td>\n",
       "      <td>상일2동</td>\n",
       "      <td>2</td>\n",
       "    </tr>\n",
       "  </tbody>\n",
       "</table>\n",
       "<p>426 rows × 3 columns</p>\n",
       "</div>"
      ],
      "text/plain": [
       "    행정구명  행정동명  bank_count\n",
       "0    종로구   사직동          17\n",
       "1    종로구   삼청동           3\n",
       "2    종로구   부암동           1\n",
       "3    종로구   평창동           5\n",
       "4    종로구   무악동           1\n",
       "..   ...   ...         ...\n",
       "421  강동구  천호2동           3\n",
       "422  강동구    길동           7\n",
       "423  강동구   강일동           0\n",
       "424  강동구  상일1동           2\n",
       "425  강동구  상일2동           2\n",
       "\n",
       "[426 rows x 3 columns]"
      ]
     },
     "execution_count": 20,
     "metadata": {},
     "output_type": "execute_result"
    }
   ],
   "source": [
    "df"
   ]
  },
  {
   "cell_type": "code",
   "execution_count": 21,
   "id": "451af537-66ad-455a-bc95-75bc334cf43e",
   "metadata": {},
   "outputs": [],
   "source": [
    "df1 = pd.read_excel('numberOfBusinessPerDong.xlsx')"
   ]
  },
  {
   "cell_type": "code",
   "execution_count": 26,
   "id": "07fbbd19-9bee-4082-a7db-23e90935211e",
   "metadata": {},
   "outputs": [],
   "source": [
    "result = pd.merge(df,df1, on = '행정동명', how = 'left')"
   ]
  },
  {
   "cell_type": "code",
   "execution_count": 27,
   "id": "e822b449-0aba-45fa-ab4e-19071c0a14a7",
   "metadata": {},
   "outputs": [],
   "source": [
    "result.drop(['행정구명_y'], axis = 1, inplace = True)"
   ]
  },
  {
   "cell_type": "code",
   "execution_count": 29,
   "id": "751c9c4d-76fe-4ec2-a52d-2e6e60afcb2d",
   "metadata": {},
   "outputs": [],
   "source": [
    "result.rename(columns = {'사업체수': 'company_count'}, inplace = True)"
   ]
  },
  {
   "cell_type": "code",
   "execution_count": 33,
   "id": "88aa84c8-8607-4981-9cf4-0fdc670eafe5",
   "metadata": {},
   "outputs": [],
   "source": [
    "df2 = pd.read_excel('numberOfForeignersPerDong.xlsx')"
   ]
  },
  {
   "cell_type": "code",
   "execution_count": 35,
   "id": "7e0391ab-4ffc-414d-a181-94bf4d3a6106",
   "metadata": {},
   "outputs": [
    {
     "data": {
      "text/html": [
       "<div>\n",
       "<style scoped>\n",
       "    .dataframe tbody tr th:only-of-type {\n",
       "        vertical-align: middle;\n",
       "    }\n",
       "\n",
       "    .dataframe tbody tr th {\n",
       "        vertical-align: top;\n",
       "    }\n",
       "\n",
       "    .dataframe thead th {\n",
       "        text-align: right;\n",
       "    }\n",
       "</style>\n",
       "<table border=\"1\" class=\"dataframe\">\n",
       "  <thead>\n",
       "    <tr style=\"text-align: right;\">\n",
       "      <th></th>\n",
       "      <th>행정구명_x</th>\n",
       "      <th>행정동명</th>\n",
       "      <th>bank_count</th>\n",
       "      <th>company_count</th>\n",
       "    </tr>\n",
       "  </thead>\n",
       "  <tbody>\n",
       "    <tr>\n",
       "      <th>0</th>\n",
       "      <td>종로구</td>\n",
       "      <td>사직동</td>\n",
       "      <td>17</td>\n",
       "      <td>5035.0</td>\n",
       "    </tr>\n",
       "    <tr>\n",
       "      <th>1</th>\n",
       "      <td>종로구</td>\n",
       "      <td>삼청동</td>\n",
       "      <td>3</td>\n",
       "      <td>956.0</td>\n",
       "    </tr>\n",
       "    <tr>\n",
       "      <th>2</th>\n",
       "      <td>종로구</td>\n",
       "      <td>부암동</td>\n",
       "      <td>1</td>\n",
       "      <td>894.0</td>\n",
       "    </tr>\n",
       "    <tr>\n",
       "      <th>3</th>\n",
       "      <td>종로구</td>\n",
       "      <td>평창동</td>\n",
       "      <td>5</td>\n",
       "      <td>1321.0</td>\n",
       "    </tr>\n",
       "    <tr>\n",
       "      <th>4</th>\n",
       "      <td>종로구</td>\n",
       "      <td>무악동</td>\n",
       "      <td>1</td>\n",
       "      <td>761.0</td>\n",
       "    </tr>\n",
       "    <tr>\n",
       "      <th>...</th>\n",
       "      <td>...</td>\n",
       "      <td>...</td>\n",
       "      <td>...</td>\n",
       "      <td>...</td>\n",
       "    </tr>\n",
       "    <tr>\n",
       "      <th>423</th>\n",
       "      <td>강동구</td>\n",
       "      <td>천호2동</td>\n",
       "      <td>3</td>\n",
       "      <td>4863.0</td>\n",
       "    </tr>\n",
       "    <tr>\n",
       "      <th>424</th>\n",
       "      <td>강동구</td>\n",
       "      <td>길동</td>\n",
       "      <td>7</td>\n",
       "      <td>5966.0</td>\n",
       "    </tr>\n",
       "    <tr>\n",
       "      <th>425</th>\n",
       "      <td>강동구</td>\n",
       "      <td>강일동</td>\n",
       "      <td>0</td>\n",
       "      <td>1443.0</td>\n",
       "    </tr>\n",
       "    <tr>\n",
       "      <th>426</th>\n",
       "      <td>강동구</td>\n",
       "      <td>상일1동</td>\n",
       "      <td>2</td>\n",
       "      <td>1679.0</td>\n",
       "    </tr>\n",
       "    <tr>\n",
       "      <th>427</th>\n",
       "      <td>강동구</td>\n",
       "      <td>상일2동</td>\n",
       "      <td>2</td>\n",
       "      <td>475.0</td>\n",
       "    </tr>\n",
       "  </tbody>\n",
       "</table>\n",
       "<p>428 rows × 4 columns</p>\n",
       "</div>"
      ],
      "text/plain": [
       "    행정구명_x  행정동명  bank_count  company_count\n",
       "0      종로구   사직동          17         5035.0\n",
       "1      종로구   삼청동           3          956.0\n",
       "2      종로구   부암동           1          894.0\n",
       "3      종로구   평창동           5         1321.0\n",
       "4      종로구   무악동           1          761.0\n",
       "..     ...   ...         ...            ...\n",
       "423    강동구  천호2동           3         4863.0\n",
       "424    강동구    길동           7         5966.0\n",
       "425    강동구   강일동           0         1443.0\n",
       "426    강동구  상일1동           2         1679.0\n",
       "427    강동구  상일2동           2          475.0\n",
       "\n",
       "[428 rows x 4 columns]"
      ]
     },
     "execution_count": 35,
     "metadata": {},
     "output_type": "execute_result"
    }
   ],
   "source": [
    "result"
   ]
  },
  {
   "cell_type": "code",
   "execution_count": 36,
   "id": "22393b77-c808-427d-bdb3-039c88db8914",
   "metadata": {},
   "outputs": [],
   "source": [
    "result2 = pd.merge(result, df2, on ='행정동명', how = 'inner')"
   ]
  },
  {
   "cell_type": "code",
   "execution_count": 39,
   "id": "c9f0799d-b177-4a34-b783-d1ddf083d96e",
   "metadata": {},
   "outputs": [],
   "source": [
    "result2.drop(['행정구명'], axis = 1, inplace = True)"
   ]
  },
  {
   "cell_type": "code",
   "execution_count": 42,
   "id": "537017f9-a935-48e7-82a1-67fb9b85dcbc",
   "metadata": {},
   "outputs": [],
   "source": [
    "result2.rename(columns = {'행정구명_x': '행정구', \n",
    "                        '외국인수': 'Foreign_businessman'}, inplace = True)"
   ]
  },
  {
   "cell_type": "code",
   "execution_count": 46,
   "id": "6d95aed5-cf9f-4546-901f-f668221e8127",
   "metadata": {},
   "outputs": [],
   "source": [
    "df3 = pd.read_csv('../Seoul_Population.csv')"
   ]
  },
  {
   "cell_type": "code",
   "execution_count": 48,
   "id": "427cab46-d248-4087-9bce-fb2312c335df",
   "metadata": {},
   "outputs": [],
   "source": [
    "df3.drop(df3.columns[3:11], axis=1, inplace=True)\n",
    "df3.drop(['Unnamed: 0'], axis =1 , inplace = True)"
   ]
  },
  {
   "cell_type": "code",
   "execution_count": null,
   "id": "c2621465-ac62-4faa-9a9a-e11ff948d2b2",
   "metadata": {},
   "outputs": [],
   "source": []
  },
  {
   "cell_type": "code",
   "execution_count": 84,
   "id": "129ac21e-80c1-48bb-a497-3552e29150dc",
   "metadata": {},
   "outputs": [],
   "source": [
    "df3 = pd.read_csv('행정구별_면적.csv')"
   ]
  },
  {
   "cell_type": "code",
   "execution_count": 89,
   "id": "a7614258-256f-4455-82fc-4229347f6fd2",
   "metadata": {},
   "outputs": [],
   "source": [
    "selected_data = df3.iloc[3:, 1:3]"
   ]
  },
  {
   "cell_type": "code",
   "execution_count": 92,
   "id": "1c222051-35fe-4582-b9c7-9779f0d7cffa",
   "metadata": {},
   "outputs": [],
   "source": [
    "selected_data.rename(columns = {'자치구별(2)': '행정구',\n",
    "                               '2022' : '면적(km)'}, inplace = True)"
   ]
  },
  {
   "cell_type": "code",
   "execution_count": 93,
   "id": "cc7c7527-912a-4f57-b65d-77c6e5489052",
   "metadata": {},
   "outputs": [
    {
     "data": {
      "text/html": [
       "<div>\n",
       "<style scoped>\n",
       "    .dataframe tbody tr th:only-of-type {\n",
       "        vertical-align: middle;\n",
       "    }\n",
       "\n",
       "    .dataframe tbody tr th {\n",
       "        vertical-align: top;\n",
       "    }\n",
       "\n",
       "    .dataframe thead th {\n",
       "        text-align: right;\n",
       "    }\n",
       "</style>\n",
       "<table border=\"1\" class=\"dataframe\">\n",
       "  <thead>\n",
       "    <tr style=\"text-align: right;\">\n",
       "      <th></th>\n",
       "      <th>행정구</th>\n",
       "      <th>면적(km)</th>\n",
       "    </tr>\n",
       "  </thead>\n",
       "  <tbody>\n",
       "    <tr>\n",
       "      <th>3</th>\n",
       "      <td>종로구</td>\n",
       "      <td>23.91</td>\n",
       "    </tr>\n",
       "    <tr>\n",
       "      <th>4</th>\n",
       "      <td>중구</td>\n",
       "      <td>9.96</td>\n",
       "    </tr>\n",
       "    <tr>\n",
       "      <th>5</th>\n",
       "      <td>용산구</td>\n",
       "      <td>21.87</td>\n",
       "    </tr>\n",
       "    <tr>\n",
       "      <th>6</th>\n",
       "      <td>성동구</td>\n",
       "      <td>16.82</td>\n",
       "    </tr>\n",
       "    <tr>\n",
       "      <th>7</th>\n",
       "      <td>광진구</td>\n",
       "      <td>17.06</td>\n",
       "    </tr>\n",
       "    <tr>\n",
       "      <th>8</th>\n",
       "      <td>동대문구</td>\n",
       "      <td>14.22</td>\n",
       "    </tr>\n",
       "    <tr>\n",
       "      <th>9</th>\n",
       "      <td>중랑구</td>\n",
       "      <td>18.50</td>\n",
       "    </tr>\n",
       "    <tr>\n",
       "      <th>10</th>\n",
       "      <td>성북구</td>\n",
       "      <td>24.58</td>\n",
       "    </tr>\n",
       "    <tr>\n",
       "      <th>11</th>\n",
       "      <td>강북구</td>\n",
       "      <td>23.60</td>\n",
       "    </tr>\n",
       "    <tr>\n",
       "      <th>12</th>\n",
       "      <td>도봉구</td>\n",
       "      <td>20.65</td>\n",
       "    </tr>\n",
       "    <tr>\n",
       "      <th>13</th>\n",
       "      <td>노원구</td>\n",
       "      <td>35.44</td>\n",
       "    </tr>\n",
       "    <tr>\n",
       "      <th>14</th>\n",
       "      <td>은평구</td>\n",
       "      <td>29.71</td>\n",
       "    </tr>\n",
       "    <tr>\n",
       "      <th>15</th>\n",
       "      <td>서대문구</td>\n",
       "      <td>17.63</td>\n",
       "    </tr>\n",
       "    <tr>\n",
       "      <th>16</th>\n",
       "      <td>마포구</td>\n",
       "      <td>23.85</td>\n",
       "    </tr>\n",
       "    <tr>\n",
       "      <th>17</th>\n",
       "      <td>양천구</td>\n",
       "      <td>17.41</td>\n",
       "    </tr>\n",
       "    <tr>\n",
       "      <th>18</th>\n",
       "      <td>강서구</td>\n",
       "      <td>41.45</td>\n",
       "    </tr>\n",
       "    <tr>\n",
       "      <th>19</th>\n",
       "      <td>구로구</td>\n",
       "      <td>20.12</td>\n",
       "    </tr>\n",
       "    <tr>\n",
       "      <th>20</th>\n",
       "      <td>금천구</td>\n",
       "      <td>13.02</td>\n",
       "    </tr>\n",
       "    <tr>\n",
       "      <th>21</th>\n",
       "      <td>영등포구</td>\n",
       "      <td>24.55</td>\n",
       "    </tr>\n",
       "    <tr>\n",
       "      <th>22</th>\n",
       "      <td>동작구</td>\n",
       "      <td>16.36</td>\n",
       "    </tr>\n",
       "    <tr>\n",
       "      <th>23</th>\n",
       "      <td>관악구</td>\n",
       "      <td>29.57</td>\n",
       "    </tr>\n",
       "    <tr>\n",
       "      <th>24</th>\n",
       "      <td>서초구</td>\n",
       "      <td>46.97</td>\n",
       "    </tr>\n",
       "    <tr>\n",
       "      <th>25</th>\n",
       "      <td>강남구</td>\n",
       "      <td>39.50</td>\n",
       "    </tr>\n",
       "    <tr>\n",
       "      <th>26</th>\n",
       "      <td>송파구</td>\n",
       "      <td>33.88</td>\n",
       "    </tr>\n",
       "    <tr>\n",
       "      <th>27</th>\n",
       "      <td>강동구</td>\n",
       "      <td>24.59</td>\n",
       "    </tr>\n",
       "  </tbody>\n",
       "</table>\n",
       "</div>"
      ],
      "text/plain": [
       "     행정구 면적(km)\n",
       "3    종로구  23.91\n",
       "4     중구   9.96\n",
       "5    용산구  21.87\n",
       "6    성동구  16.82\n",
       "7    광진구  17.06\n",
       "8   동대문구  14.22\n",
       "9    중랑구  18.50\n",
       "10   성북구  24.58\n",
       "11   강북구  23.60\n",
       "12   도봉구  20.65\n",
       "13   노원구  35.44\n",
       "14   은평구  29.71\n",
       "15  서대문구  17.63\n",
       "16   마포구  23.85\n",
       "17   양천구  17.41\n",
       "18   강서구  41.45\n",
       "19   구로구  20.12\n",
       "20   금천구  13.02\n",
       "21  영등포구  24.55\n",
       "22   동작구  16.36\n",
       "23   관악구  29.57\n",
       "24   서초구  46.97\n",
       "25   강남구  39.50\n",
       "26   송파구  33.88\n",
       "27   강동구  24.59"
      ]
     },
     "execution_count": 93,
     "metadata": {},
     "output_type": "execute_result"
    }
   ],
   "source": [
    "selected_data"
   ]
  },
  {
   "cell_type": "code",
   "execution_count": 94,
   "id": "59ddfe68-f6df-49f3-9452-2a9951fe3b0f",
   "metadata": {},
   "outputs": [],
   "source": [
    "for_cluster_data = result2[['행정구','bank_count', 'company_count', 'Foreign_businessman']]"
   ]
  },
  {
   "cell_type": "code",
   "execution_count": 96,
   "id": "5a664ef4-d5a2-45b5-b72f-1e420a2ce4ab",
   "metadata": {},
   "outputs": [],
   "source": [
    "final_data = pd.merge(for_cluster_data,selected_data, \n",
    "                      on = '행정구', how = 'inner')"
   ]
  },
  {
   "cell_type": "code",
   "execution_count": 105,
   "id": "a83cf924-70cf-4117-b7af-734551799092",
   "metadata": {},
   "outputs": [
    {
     "data": {
      "text/html": [
       "<div>\n",
       "<style scoped>\n",
       "    .dataframe tbody tr th:only-of-type {\n",
       "        vertical-align: middle;\n",
       "    }\n",
       "\n",
       "    .dataframe tbody tr th {\n",
       "        vertical-align: top;\n",
       "    }\n",
       "\n",
       "    .dataframe thead th {\n",
       "        text-align: right;\n",
       "    }\n",
       "</style>\n",
       "<table border=\"1\" class=\"dataframe\">\n",
       "  <thead>\n",
       "    <tr style=\"text-align: right;\">\n",
       "      <th></th>\n",
       "      <th>행정구</th>\n",
       "      <th>bank_count</th>\n",
       "      <th>company_count</th>\n",
       "      <th>Foreign_businessman</th>\n",
       "      <th>면적(km)</th>\n",
       "    </tr>\n",
       "  </thead>\n",
       "  <tbody>\n",
       "    <tr>\n",
       "      <th>0</th>\n",
       "      <td>종로구</td>\n",
       "      <td>17</td>\n",
       "      <td>5035.0</td>\n",
       "      <td>404</td>\n",
       "      <td>23.91</td>\n",
       "    </tr>\n",
       "    <tr>\n",
       "      <th>1</th>\n",
       "      <td>종로구</td>\n",
       "      <td>3</td>\n",
       "      <td>956.0</td>\n",
       "      <td>87</td>\n",
       "      <td>23.91</td>\n",
       "    </tr>\n",
       "    <tr>\n",
       "      <th>2</th>\n",
       "      <td>종로구</td>\n",
       "      <td>1</td>\n",
       "      <td>894.0</td>\n",
       "      <td>379</td>\n",
       "      <td>23.91</td>\n",
       "    </tr>\n",
       "    <tr>\n",
       "      <th>3</th>\n",
       "      <td>종로구</td>\n",
       "      <td>5</td>\n",
       "      <td>1321.0</td>\n",
       "      <td>430</td>\n",
       "      <td>23.91</td>\n",
       "    </tr>\n",
       "    <tr>\n",
       "      <th>4</th>\n",
       "      <td>종로구</td>\n",
       "      <td>1</td>\n",
       "      <td>761.0</td>\n",
       "      <td>96</td>\n",
       "      <td>23.91</td>\n",
       "    </tr>\n",
       "    <tr>\n",
       "      <th>...</th>\n",
       "      <td>...</td>\n",
       "      <td>...</td>\n",
       "      <td>...</td>\n",
       "      <td>...</td>\n",
       "      <td>...</td>\n",
       "    </tr>\n",
       "    <tr>\n",
       "      <th>425</th>\n",
       "      <td>강동구</td>\n",
       "      <td>3</td>\n",
       "      <td>4863.0</td>\n",
       "      <td>1403</td>\n",
       "      <td>24.59</td>\n",
       "    </tr>\n",
       "    <tr>\n",
       "      <th>426</th>\n",
       "      <td>강동구</td>\n",
       "      <td>7</td>\n",
       "      <td>5966.0</td>\n",
       "      <td>785</td>\n",
       "      <td>24.59</td>\n",
       "    </tr>\n",
       "    <tr>\n",
       "      <th>427</th>\n",
       "      <td>강동구</td>\n",
       "      <td>0</td>\n",
       "      <td>1443.0</td>\n",
       "      <td>498</td>\n",
       "      <td>24.59</td>\n",
       "    </tr>\n",
       "    <tr>\n",
       "      <th>428</th>\n",
       "      <td>강동구</td>\n",
       "      <td>2</td>\n",
       "      <td>1679.0</td>\n",
       "      <td>310</td>\n",
       "      <td>24.59</td>\n",
       "    </tr>\n",
       "    <tr>\n",
       "      <th>429</th>\n",
       "      <td>강동구</td>\n",
       "      <td>2</td>\n",
       "      <td>475.0</td>\n",
       "      <td>148</td>\n",
       "      <td>24.59</td>\n",
       "    </tr>\n",
       "  </tbody>\n",
       "</table>\n",
       "<p>430 rows × 5 columns</p>\n",
       "</div>"
      ],
      "text/plain": [
       "     행정구  bank_count  company_count  Foreign_businessman 면적(km)\n",
       "0    종로구          17         5035.0                  404  23.91\n",
       "1    종로구           3          956.0                   87  23.91\n",
       "2    종로구           1          894.0                  379  23.91\n",
       "3    종로구           5         1321.0                  430  23.91\n",
       "4    종로구           1          761.0                   96  23.91\n",
       "..   ...         ...            ...                  ...    ...\n",
       "425  강동구           3         4863.0                 1403  24.59\n",
       "426  강동구           7         5966.0                  785  24.59\n",
       "427  강동구           0         1443.0                  498  24.59\n",
       "428  강동구           2         1679.0                  310  24.59\n",
       "429  강동구           2          475.0                  148  24.59\n",
       "\n",
       "[430 rows x 5 columns]"
      ]
     },
     "execution_count": 105,
     "metadata": {},
     "output_type": "execute_result"
    }
   ],
   "source": [
    "final_data"
   ]
  },
  {
   "cell_type": "code",
   "execution_count": 106,
   "id": "95936201-3708-4d48-b1b9-f2d293079b14",
   "metadata": {},
   "outputs": [],
   "source": [
    "grouped_data = final_data.groupby('행정구').sum()"
   ]
  },
  {
   "cell_type": "code",
   "execution_count": 108,
   "id": "e9ef5f6c-1539-4b11-9334-d32f8ec4ba13",
   "metadata": {},
   "outputs": [],
   "source": [
    "grouped_data_1 = pd.merge(grouped_data, selected_data, \n",
    "                          on ='행정구', how = 'inner')"
   ]
  },
  {
   "cell_type": "code",
   "execution_count": 114,
   "id": "fbbe94a0-b765-4e02-ba37-f63350c553d9",
   "metadata": {},
   "outputs": [],
   "source": [
    "grouped_data_1['면적(km)'] = grouped_data_1['면적(km)'].astype('float64')"
   ]
  },
  {
   "cell_type": "code",
   "execution_count": 117,
   "id": "c9881e93-3608-4e5e-b27a-337e22f05ff5",
   "metadata": {},
   "outputs": [
    {
     "data": {
      "text/html": [
       "<div>\n",
       "<style scoped>\n",
       "    .dataframe tbody tr th:only-of-type {\n",
       "        vertical-align: middle;\n",
       "    }\n",
       "\n",
       "    .dataframe tbody tr th {\n",
       "        vertical-align: top;\n",
       "    }\n",
       "\n",
       "    .dataframe thead th {\n",
       "        text-align: right;\n",
       "    }\n",
       "</style>\n",
       "<table border=\"1\" class=\"dataframe\">\n",
       "  <thead>\n",
       "    <tr style=\"text-align: right;\">\n",
       "      <th></th>\n",
       "      <th>행정구</th>\n",
       "      <th>bank_count</th>\n",
       "      <th>company_count</th>\n",
       "      <th>Foreign_businessman</th>\n",
       "      <th>면적(km)</th>\n",
       "    </tr>\n",
       "  </thead>\n",
       "  <tbody>\n",
       "    <tr>\n",
       "      <th>0</th>\n",
       "      <td>강남구</td>\n",
       "      <td>7.443038</td>\n",
       "      <td>119463.0</td>\n",
       "      <td>21082</td>\n",
       "      <td>39.50</td>\n",
       "    </tr>\n",
       "    <tr>\n",
       "      <th>1</th>\n",
       "      <td>강동구</td>\n",
       "      <td>1.911346</td>\n",
       "      <td>41660.0</td>\n",
       "      <td>9422</td>\n",
       "      <td>24.59</td>\n",
       "    </tr>\n",
       "    <tr>\n",
       "      <th>2</th>\n",
       "      <td>강북구</td>\n",
       "      <td>0.932203</td>\n",
       "      <td>26385.0</td>\n",
       "      <td>7225</td>\n",
       "      <td>23.60</td>\n",
       "    </tr>\n",
       "    <tr>\n",
       "      <th>3</th>\n",
       "      <td>강서구</td>\n",
       "      <td>1.399276</td>\n",
       "      <td>58806.0</td>\n",
       "      <td>12701</td>\n",
       "      <td>41.45</td>\n",
       "    </tr>\n",
       "    <tr>\n",
       "      <th>4</th>\n",
       "      <td>관악구</td>\n",
       "      <td>1.217450</td>\n",
       "      <td>52289.0</td>\n",
       "      <td>33345</td>\n",
       "      <td>29.57</td>\n",
       "    </tr>\n",
       "  </tbody>\n",
       "</table>\n",
       "</div>"
      ],
      "text/plain": [
       "   행정구  bank_count  company_count  Foreign_businessman  면적(km)\n",
       "0  강남구    7.443038       119463.0                21082   39.50\n",
       "1  강동구    1.911346        41660.0                 9422   24.59\n",
       "2  강북구    0.932203        26385.0                 7225   23.60\n",
       "3  강서구    1.399276        58806.0                12701   41.45\n",
       "4  관악구    1.217450        52289.0                33345   29.57"
      ]
     },
     "execution_count": 117,
     "metadata": {},
     "output_type": "execute_result"
    }
   ],
   "source": [
    "grouped_data_1.head()"
   ]
  },
  {
   "cell_type": "code",
   "execution_count": 115,
   "id": "e228ad20-5c91-4250-8121-36b337e1e63d",
   "metadata": {},
   "outputs": [],
   "source": [
    "grouped_data_1['bank_count'] = grouped_data_1['bank_count'] / grouped_data_1['면적(km)']\n"
   ]
  },
  {
   "cell_type": "code",
   "execution_count": 118,
   "id": "c22f5b2b-1cfa-4120-9e88-1a30ccdb161c",
   "metadata": {},
   "outputs": [],
   "source": [
    "grouped_data_1['company_count'] = grouped_data_1['company_count'] / grouped_data_1['면적(km)'] \n",
    "grouped_data_1['Foreign_businessman'] = grouped_data_1['Foreign_businessman'] / grouped_data_1['면적(km)'] "
   ]
  },
  {
   "cell_type": "code",
   "execution_count": 120,
   "id": "013e0687-b7c3-48a4-b410-761c199fb069",
   "metadata": {},
   "outputs": [],
   "source": [
    "df4 = pd.read_csv('../Seoul_Population.csv')"
   ]
  },
  {
   "cell_type": "code",
   "execution_count": 122,
   "id": "0237d6fb-2e0d-42cd-a81d-2f1d08460ecc",
   "metadata": {},
   "outputs": [],
   "source": [
    "df4.drop(df4.columns[3:11], axis=1, inplace=True)\n",
    "df4.drop(['Unnamed: 0'], axis =1 , inplace = True)"
   ]
  },
  {
   "cell_type": "code",
   "execution_count": 127,
   "id": "b2edd1d6-40ba-4591-80b2-e1d946667e03",
   "metadata": {},
   "outputs": [],
   "source": [
    "df4.rename(columns = {'district': '행정구'}, inplace = True)"
   ]
  },
  {
   "cell_type": "code",
   "execution_count": 128,
   "id": "980aafd5-82a0-4c03-87e4-1805d69f483f",
   "metadata": {},
   "outputs": [],
   "source": [
    "real_last_data_concat = pd.merge(df4, grouped_data_1, on = '행정구', how = 'inner')"
   ]
  },
  {
   "cell_type": "code",
   "execution_count": 130,
   "id": "a259d4fd-bff3-42d0-b1a7-7fe3ccb3c005",
   "metadata": {},
   "outputs": [],
   "source": [
    "real_last_data_concat.drop('면적(km)', axis =1 , inplace = True)"
   ]
  },
  {
   "cell_type": "code",
   "execution_count": 131,
   "id": "1107361c-db1d-4fed-aba6-076ab3bf83d0",
   "metadata": {},
   "outputs": [],
   "source": [
    "real_last_data_concat.to_csv('외국인종합데이터.csv', encoding = 'utf-8-sig')"
   ]
  },
  {
   "cell_type": "markdown",
   "id": "01bdbe10-2599-499b-ab89-9d57d6f5c76e",
   "metadata": {},
   "source": [
    "# 여기까지 정제 이제 클러스터링"
   ]
  },
  {
   "cell_type": "code",
   "execution_count": 79,
   "id": "7494f88f-b9c1-4421-9bf0-40bdce16f770",
   "metadata": {},
   "outputs": [],
   "source": [
    "import pandas as pd\n",
    "import matplotlib.pyplot as plt\n",
    "from sklearn.cluster import KMeans\n",
    "from sklearn.preprocessing import StandardScaler\n",
    "from sklearn.metrics import silhouette_score\n",
    "%matplotlib inline\n",
    "import numpy as np\n",
    "\n",
    "\n",
    "# 데이터 불러오기\n",
    "df = pd.read_csv('외국인종합데이터.csv', index_col='행정구', encoding='utf-8')\n",
    "df.drop(['Unnamed: 0'], axis=1, inplace=True)\n",
    "select_columns = ['2024_population', 'bank_count', 'company_count', 'Income']\n",
    "df = df[select_columns]\n"
   ]
  },
  {
   "cell_type": "code",
   "execution_count": 80,
   "id": "c7a122e9-f12c-4a5d-ad24-a554490a8b02",
   "metadata": {},
   "outputs": [],
   "source": [
    "silluteDF = pd.DataFrame(data = df.values, columns = select_columns)"
   ]
  },
  {
   "cell_type": "code",
   "execution_count": 81,
   "id": "08135648-ea0d-416e-a75b-1796f218af5c",
   "metadata": {},
   "outputs": [
    {
     "data": {
      "text/plain": [
       "KMeans(n_clusters=3, random_state=0)"
      ]
     },
     "execution_count": 81,
     "metadata": {},
     "output_type": "execute_result"
    }
   ],
   "source": [
    "kmeans = KMeans(n_clusters=3, init='k-means++', max_iter=300,random_state=0)\n",
    "kmeans.fit(silluteDF)"
   ]
  },
  {
   "cell_type": "code",
   "execution_count": 82,
   "id": "ab5077db-b7ac-4c0b-bbae-7f4af7d6b0a2",
   "metadata": {},
   "outputs": [
    {
     "data": {
      "text/html": [
       "<div>\n",
       "<style scoped>\n",
       "    .dataframe tbody tr th:only-of-type {\n",
       "        vertical-align: middle;\n",
       "    }\n",
       "\n",
       "    .dataframe tbody tr th {\n",
       "        vertical-align: top;\n",
       "    }\n",
       "\n",
       "    .dataframe thead th {\n",
       "        text-align: right;\n",
       "    }\n",
       "</style>\n",
       "<table border=\"1\" class=\"dataframe\">\n",
       "  <thead>\n",
       "    <tr style=\"text-align: right;\">\n",
       "      <th></th>\n",
       "      <th>2024_population</th>\n",
       "      <th>bank_count</th>\n",
       "      <th>company_count</th>\n",
       "      <th>Income</th>\n",
       "      <th>cluster</th>\n",
       "    </tr>\n",
       "  </thead>\n",
       "  <tbody>\n",
       "    <tr>\n",
       "      <th>0</th>\n",
       "      <td>6369370.0</td>\n",
       "      <td>7.443038</td>\n",
       "      <td>3024.379747</td>\n",
       "      <td>48485.0</td>\n",
       "      <td>2</td>\n",
       "    </tr>\n",
       "    <tr>\n",
       "      <th>1</th>\n",
       "      <td>1952698.0</td>\n",
       "      <td>1.911346</td>\n",
       "      <td>1694.184628</td>\n",
       "      <td>38348.0</td>\n",
       "      <td>0</td>\n",
       "    </tr>\n",
       "    <tr>\n",
       "      <th>2</th>\n",
       "      <td>991804.0</td>\n",
       "      <td>0.932203</td>\n",
       "      <td>1118.008475</td>\n",
       "      <td>34365.0</td>\n",
       "      <td>0</td>\n",
       "    </tr>\n",
       "    <tr>\n",
       "      <th>3</th>\n",
       "      <td>2769849.0</td>\n",
       "      <td>1.399276</td>\n",
       "      <td>1418.721351</td>\n",
       "      <td>38755.0</td>\n",
       "      <td>0</td>\n",
       "    </tr>\n",
       "    <tr>\n",
       "      <th>4</th>\n",
       "      <td>4041722.0</td>\n",
       "      <td>1.217450</td>\n",
       "      <td>1768.312479</td>\n",
       "      <td>34851.0</td>\n",
       "      <td>2</td>\n",
       "    </tr>\n",
       "    <tr>\n",
       "      <th>5</th>\n",
       "      <td>2947243.0</td>\n",
       "      <td>2.286049</td>\n",
       "      <td>1975.732708</td>\n",
       "      <td>36466.0</td>\n",
       "      <td>0</td>\n",
       "    </tr>\n",
       "    <tr>\n",
       "      <th>6</th>\n",
       "      <td>9579237.0</td>\n",
       "      <td>2.634195</td>\n",
       "      <td>2623.807157</td>\n",
       "      <td>35504.0</td>\n",
       "      <td>1</td>\n",
       "    </tr>\n",
       "    <tr>\n",
       "      <th>7</th>\n",
       "      <td>5836500.0</td>\n",
       "      <td>3.456221</td>\n",
       "      <td>3683.870968</td>\n",
       "      <td>35178.0</td>\n",
       "      <td>2</td>\n",
       "    </tr>\n",
       "    <tr>\n",
       "      <th>8</th>\n",
       "      <td>1426320.0</td>\n",
       "      <td>1.326185</td>\n",
       "      <td>1069.667043</td>\n",
       "      <td>36938.0</td>\n",
       "      <td>0</td>\n",
       "    </tr>\n",
       "    <tr>\n",
       "      <th>9</th>\n",
       "      <td>802408.0</td>\n",
       "      <td>0.968523</td>\n",
       "      <td>1229.588378</td>\n",
       "      <td>35625.0</td>\n",
       "      <td>0</td>\n",
       "    </tr>\n",
       "  </tbody>\n",
       "</table>\n",
       "</div>"
      ],
      "text/plain": [
       "   2024_population  bank_count  company_count   Income  cluster\n",
       "0        6369370.0    7.443038    3024.379747  48485.0        2\n",
       "1        1952698.0    1.911346    1694.184628  38348.0        0\n",
       "2         991804.0    0.932203    1118.008475  34365.0        0\n",
       "3        2769849.0    1.399276    1418.721351  38755.0        0\n",
       "4        4041722.0    1.217450    1768.312479  34851.0        2\n",
       "5        2947243.0    2.286049    1975.732708  36466.0        0\n",
       "6        9579237.0    2.634195    2623.807157  35504.0        1\n",
       "7        5836500.0    3.456221    3683.870968  35178.0        2\n",
       "8        1426320.0    1.326185    1069.667043  36938.0        0\n",
       "9         802408.0    0.968523    1229.588378  35625.0        0"
      ]
     },
     "execution_count": 82,
     "metadata": {},
     "output_type": "execute_result"
    }
   ],
   "source": [
    "silluteDF['cluster'] = kmeans.labels_\n",
    "\n",
    "silluteDF.head(10)"
   ]
  },
  {
   "cell_type": "code",
   "execution_count": 83,
   "id": "26e24fca-0b45-4cf2-ad04-a34e481ff197",
   "metadata": {},
   "outputs": [
    {
     "name": "stdout",
     "output_type": "stream",
     "text": [
      "silhouette_samples( ) return 값의 shape (25,)\n"
     ]
    }
   ],
   "source": [
    "from sklearn.metrics import silhouette_samples, silhouette_score\n",
    "\n",
    "score_samples = silhouette_samples(silluteDF.values, silluteDF['cluster'])\n",
    "print('silhouette_samples( ) return 값의 shape' , score_samples.shape)\n",
    "\n",
    "# irisDF에 실루엣 계수 컬럼 추가\n",
    "silluteDF['silhouette_coeff'] = score_samples"
   ]
  },
  {
   "cell_type": "code",
   "execution_count": 84,
   "id": "e9b513bd-9cd2-468b-acc2-9ed3b7d20244",
   "metadata": {},
   "outputs": [
    {
     "name": "stdout",
     "output_type": "stream",
     "text": [
      "0.6206034895704341\n",
      "0.6206034895704268\n"
     ]
    }
   ],
   "source": [
    "print(np.mean(score_samples))\n",
    "print(silhouette_score(silluteDF.values, silluteDF['cluster']))"
   ]
  },
  {
   "cell_type": "markdown",
   "id": "53016123-e600-46ec-8ab6-aae0b1f6a8dd",
   "metadata": {},
   "source": [
    "# 실루엣 스코어가 0.5가 넘으면 좋은 수치"
   ]
  },
  {
   "cell_type": "code",
   "execution_count": 85,
   "id": "e9874a7b-d15f-4adb-af34-738385a86d51",
   "metadata": {},
   "outputs": [
    {
     "data": {
      "text/plain": [
       "cluster\n",
       "0    0.631705\n",
       "1    0.859284\n",
       "2    0.485164\n",
       "Name: silhouette_coeff, dtype: float64"
      ]
     },
     "execution_count": 85,
     "metadata": {},
     "output_type": "execute_result"
    }
   ],
   "source": [
    "silluteDF.groupby('cluster')['silhouette_coeff'].mean()"
   ]
  },
  {
   "cell_type": "code",
   "execution_count": 88,
   "id": "4130286c-9a7d-4e77-b086-f20b17744131",
   "metadata": {},
   "outputs": [],
   "source": [
    "df = silluteDF.copy()"
   ]
  },
  {
   "cell_type": "code",
   "execution_count": 91,
   "id": "1cec01f4-7111-4911-84c4-5a2cd9deaa77",
   "metadata": {},
   "outputs": [],
   "source": [
    "df.drop(['cluster', 'silhouette_coeff'],axis =1 ,inplace = True)"
   ]
  },
  {
   "cell_type": "code",
   "execution_count": 99,
   "id": "50220a80-0f8f-4fd5-91e7-6f4d04b30964",
   "metadata": {},
   "outputs": [],
   "source": [
    "data = df[['2024_population',\t'bank_count','company_count','Income']]"
   ]
  },
  {
   "cell_type": "code",
   "execution_count": 100,
   "id": "829ff241-dd31-4ef0-9833-f0930777d62b",
   "metadata": {},
   "outputs": [],
   "source": [
    "scaler = MinMaxScaler()\n",
    "data_scale = scaler.fit_transform(data)"
   ]
  },
  {
   "cell_type": "code",
   "execution_count": 102,
   "id": "b1f0b6f7-f6dc-4b65-895f-4b1056b62234",
   "metadata": {},
   "outputs": [
    {
     "name": "stdout",
     "output_type": "stream",
     "text": [
      "Collecting threadpoolctl==3.1.0\n",
      "  Downloading threadpoolctl-3.1.0-py3-none-any.whl (14 kB)\n",
      "Installing collected packages: threadpoolctl\n",
      "  Attempting uninstall: threadpoolctl\n",
      "    Found existing installation: threadpoolctl 2.2.0\n",
      "    Uninstalling threadpoolctl-2.2.0:\n",
      "      Successfully uninstalled threadpoolctl-2.2.0\n",
      "Successfully installed threadpoolctl-3.1.0\n"
     ]
    },
    {
     "name": "stderr",
     "output_type": "stream",
     "text": [
      "WARNING: Ignoring invalid distribution -eras (c:\\users\\intel win11pro(12th)\\anaconda3\\lib\\site-packages)\n",
      "WARNING: Ignoring invalid distribution -eras (c:\\users\\intel win11pro(12th)\\anaconda3\\lib\\site-packages)\n",
      "WARNING: Ignoring invalid distribution -eras (c:\\users\\intel win11pro(12th)\\anaconda3\\lib\\site-packages)\n",
      "    WARNING: Ignoring invalid distribution -eras (c:\\users\\intel win11pro(12th)\\anaconda3\\lib\\site-packages)\n",
      "WARNING: Ignoring invalid distribution -eras (c:\\users\\intel win11pro(12th)\\anaconda3\\lib\\site-packages)\n",
      "ERROR: pip's dependency resolver does not currently take into account all the packages that are installed. This behaviour is the source of the following dependency conflicts.\n",
      "pycaret 3.0.4 requires numpy<1.24,>=1.21, but you have numpy 1.26.1 which is incompatible.\n",
      "WARNING: Ignoring invalid distribution -eras (c:\\users\\intel win11pro(12th)\\anaconda3\\lib\\site-packages)\n",
      "WARNING: Ignoring invalid distribution -eras (c:\\users\\intel win11pro(12th)\\anaconda3\\lib\\site-packages)\n",
      "WARNING: Ignoring invalid distribution -eras (c:\\users\\intel win11pro(12th)\\anaconda3\\lib\\site-packages)\n"
     ]
    }
   ],
   "source": [
    "!pip install threadpoolctl==3.1.0"
   ]
  },
  {
   "cell_type": "code",
   "execution_count": 62,
   "id": "48eed704-8de2-4fe7-a907-f7b40d08fee9",
   "metadata": {},
   "outputs": [],
   "source": [
    "def visualize_silhouette(cluster_lists, X_features): \n",
    "    \n",
    "    from sklearn.datasets import make_blobs\n",
    "    from sklearn.cluster import KMeans\n",
    "    from sklearn.metrics import silhouette_samples, silhouette_score\n",
    "\n",
    "    import matplotlib.pyplot as plt\n",
    "    import matplotlib.cm as cm\n",
    "    import math\n",
    "    \n",
    "\n",
    "    n_cols = len(cluster_lists)\n",
    "    \n",
    "\n",
    "    fig, axs = plt.subplots(figsize=(5*n_cols, 5), nrows=1, ncols=n_cols)\n",
    "\n",
    "    for ind, n_cluster in enumerate(cluster_lists):\n",
    "        \n",
    "        \n",
    "        clusterer = KMeans(n_clusters = n_cluster, max_iter=500, random_state=0)\n",
    "        cluster_labels = clusterer.fit_predict(X_features)\n",
    "        \n",
    "        sil_avg = silhouette_score(X_features, cluster_labels)\n",
    "        sil_values = silhouette_samples(X_features, cluster_labels)\n",
    "        \n",
    "        y_lower = 10\n",
    "        axs[ind].set_title('Number of Cluster : '+ str(n_cluster)+'\\n' \\\n",
    "                          'Silhouette Score :' + str(round(sil_avg,3)) )\n",
    "        axs[ind].set_xlabel(\"The silhouette coefficient values\")\n",
    "        axs[ind].set_ylabel(\"Cluster label\")\n",
    "        axs[ind].set_xlim([-0.1, 1])\n",
    "        axs[ind].set_ylim([0, len(X_features) + (n_cluster + 1) * 10])\n",
    "        axs[ind].set_yticks([])  # Clear the yaxis labels / ticks\n",
    "        axs[ind].set_xticks([0, 0.2, 0.4, 0.6, 0.8, 1])\n",
    "        \n",
    "        # 클러스터링 갯수별로 fill_betweenx( )형태의 막대 그래프 표현. \n",
    "        for i in range(n_cluster):\n",
    "            ith_cluster_sil_values = sil_values[cluster_labels==i]\n",
    "            ith_cluster_sil_values.sort()\n",
    "            \n",
    "            size_cluster_i = ith_cluster_sil_values.shape[0]\n",
    "            y_upper = y_lower + size_cluster_i\n",
    "            \n",
    "            color = cm.nipy_spectral(float(i) / n_cluster)\n",
    "            axs[ind].fill_betweenx(np.arange(y_lower, y_upper), 0, ith_cluster_sil_values, \\\n",
    "                                facecolor=color, edgecolor=color, alpha=0.7)\n",
    "            axs[ind].text(-0.05, y_lower + 0.5 * size_cluster_i, str(i))\n",
    "            y_lower = y_upper + 10\n",
    "            \n",
    "        axs[ind].axvline(x=sil_avg, color=\"red\", linestyle=\"--\")"
   ]
  },
  {
   "cell_type": "code",
   "execution_count": 63,
   "id": "630fd021-83b2-4ce5-a18e-8378a69d6b9d",
   "metadata": {},
   "outputs": [
    {
     "data": {
      "image/png": "[encoded data removed]",
      "text/plain": [
       "<Figure size 2500x500 with 5 Axes>"
      ]
     },
     "metadata": {},
     "output_type": "display_data"
    }
   ],
   "source": [
    "visualize_silhouette([2, 3, 4,5,6], silluteDF.values)"
   ]
  },
  {
   "cell_type": "code",
   "execution_count": 64,
   "id": "067b6e49-6265-43d4-8fd7-5fea141339e8",
   "metadata": {
    "tags": []
   },
   "outputs": [
    {
     "name": "stdout",
     "output_type": "stream",
     "text": [
      "Initialization complete\n",
      "Iteration 0, inertia 7600009592844.945\n",
      "Iteration 1, inertia 5906053579639.745\n",
      "Iteration 2, inertia 5839771036375.179\n",
      "Converged at iteration 2: strict convergence.\n",
      "Initialization complete\n",
      "Iteration 0, inertia 3697821749008.929\n",
      "Iteration 1, inertia 3203101140978.1016\n",
      "Converged at iteration 1: strict convergence.\n",
      "Initialization complete\n",
      "Iteration 0, inertia 4999413343443.132\n",
      "Iteration 1, inertia 3410218836882.8594\n",
      "Iteration 2, inertia 3299487363926.822\n",
      "Converged at iteration 2: strict convergence.\n",
      "Initialization complete\n",
      "Iteration 0, inertia 5998646778636.699\n",
      "Iteration 1, inertia 3303299204264.5767\n",
      "Iteration 2, inertia 3203101140978.1016\n",
      "Converged at iteration 2: strict convergence.\n",
      "Initialization complete\n",
      "Iteration 0, inertia 7858049924888.493\n",
      "Iteration 1, inertia 3206367916860.961\n",
      "Converged at iteration 1: strict convergence.\n",
      "Initialization complete\n",
      "Iteration 0, inertia 3946445975588.316\n",
      "Iteration 1, inertia 3203101140978.1016\n",
      "Converged at iteration 1: strict convergence.\n",
      "Initialization complete\n",
      "Iteration 0, inertia 3831969828450.2266\n",
      "Iteration 1, inertia 3299487363926.822\n",
      "Converged at iteration 1: strict convergence.\n",
      "Initialization complete\n",
      "Iteration 0, inertia 3697821749008.929\n",
      "Iteration 1, inertia 3203101140978.1016\n",
      "Converged at iteration 1: strict convergence.\n",
      "Initialization complete\n",
      "Iteration 0, inertia 5396687314177.123\n",
      "Iteration 1, inertia 3303299204264.5767\n",
      "Iteration 2, inertia 3203101140978.1016\n",
      "Converged at iteration 2: strict convergence.\n",
      "Initialization complete\n",
      "Iteration 0, inertia 5165841152755.072\n",
      "Iteration 1, inertia 3299487363926.822\n",
      "Converged at iteration 1: strict convergence.\n"
     ]
    }
   ],
   "source": [
    "kmeans = KMeans(n_clusters=5, max_iter=100, verbose=1)\n",
    "clusters = kmeans.fit_predict(silluteDF)"
   ]
  },
  {
   "cell_type": "code",
   "execution_count": 65,
   "id": "294c7acf-69a6-4dda-9ff7-e7e51b259d2a",
   "metadata": {},
   "outputs": [
    {
     "name": "stdout",
     "output_type": "stream",
     "text": [
      "0 2\n",
      "1 3\n",
      "2 3\n",
      "3 0\n",
      "4 4\n",
      "5 0\n",
      "6 1\n",
      "7 2\n",
      "8 3\n",
      "9 3\n",
      "10 0\n",
      "11 0\n",
      "12 0\n",
      "13 3\n",
      "14 4\n",
      "15 0\n",
      "16 3\n",
      "17 0\n",
      "18 3\n",
      "19 1\n",
      "20 0\n",
      "21 3\n",
      "22 0\n",
      "23 4\n",
      "24 3\n"
     ]
    }
   ],
   "source": [
    "cluster_nums = []\n",
    "for doc_num, cluster_num in enumerate(clusters): \n",
    "    cluster_nums.append(cluster_num)\n",
    "    print(doc_num, cluster_num)"
   ]
  },
  {
   "cell_type": "code",
   "execution_count": 66,
   "id": "fb90b5d9-023f-43cd-8364-8f56d42f4b55",
   "metadata": {},
   "outputs": [
    {
     "data": {
      "text/plain": [
       "array([2, 3, 3, 0, 4, 0, 1, 2, 3, 3, 0, 0, 0, 3, 4, 0, 3, 0, 3, 1, 0, 3,\n",
       "       0, 4, 3])"
      ]
     },
     "execution_count": 66,
     "metadata": {},
     "output_type": "execute_result"
    }
   ],
   "source": [
    "kmeans.labels_"
   ]
  },
  {
   "cell_type": "code",
   "execution_count": 67,
   "id": "1fcf0c44-8f22-4ccc-afae-65382e879130",
   "metadata": {},
   "outputs": [],
   "source": [
    "silluteDF['레이블'] = cluster_nums"
   ]
  },
  {
   "cell_type": "code",
   "execution_count": 68,
   "id": "86d26573-2494-41cd-8d11-2f7b8a417024",
   "metadata": {},
   "outputs": [],
   "source": [
    "silluteDF.drop(['cluster', 'silhouette_coeff'], axis = 1,inplace = True)"
   ]
  },
  {
   "cell_type": "code",
   "execution_count": 69,
   "id": "524f42a4-d6a4-49c0-a421-3a6395e9addf",
   "metadata": {},
   "outputs": [],
   "source": [
    "silluteDF.index = df.index"
   ]
  },
  {
   "cell_type": "code",
   "execution_count": 73,
   "id": "99d4d755-4e74-469c-8e50-54d8ddd043f9",
   "metadata": {},
   "outputs": [],
   "source": [
    "from sklearn.preprocessing import MinMaxScaler\n",
    "\n",
    "selected_columns = ['2024_population','bank_count','company_count','Income']\n",
    "\n",
    "scaler = MinMaxScaler()\n",
    "silluteDF[selected_columns] = scaler.fit_transform(silluteDF[selected_columns])"
   ]
  },
  {
   "cell_type": "code",
   "execution_count": 75,
   "id": "d3911899-f3db-4e1e-8385-02c047fe6092",
   "metadata": {},
   "outputs": [],
   "source": [
    "silluteDF.to_csv('클러스터링_실루엣_적용한거2.csv', encoding = 'utf-8-sig')"
   ]
  },
  {
   "cell_type": "code",
   "execution_count": 127,
   "id": "182f0e14-f6c0-47e9-a29c-9d43204463ca",
   "metadata": {},
   "outputs": [],
   "source": [
    "df = pd.read_csv('클러스터링_실루엣_적용한거2.csv')"
   ]
  }
 ],
 "metadata": {
  "kernelspec": {
   "display_name": "Python 3 (ipykernel)",
   "language": "python",
   "name": "python3"
  },
  "language_info": {
   "codemirror_mode": {
    "name": "ipython",
    "version": 3
   },
   "file_extension": ".py",
   "mimetype": "text/x-python",
   "name": "python",
   "nbconvert_exporter": "python",
   "pygments_lexer": "ipython3",
   "version": "3.9.13"
  }
 },
 "nbformat": 4,
 "nbformat_minor": 5
}
