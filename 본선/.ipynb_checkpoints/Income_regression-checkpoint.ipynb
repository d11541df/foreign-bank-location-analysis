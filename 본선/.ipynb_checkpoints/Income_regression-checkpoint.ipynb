{
 "cells": [
  {
   "cell_type": "code",
   "execution_count": 17,
   "id": "0a91f18d-c052-4008-a984-705b358d5d1f",
   "metadata": {},
   "outputs": [],
   "source": [
    "import pandas as pd\n",
    "from sklearn.preprocessing import LabelEncoder\n",
    "from sklearn.ensemble import RandomForestRegressor\n",
    "from sklearn.metrics import mean_squared_error, r2_score\n"
   ]
  },
  {
   "cell_type": "code",
   "execution_count": 4,
   "id": "eb217f16-4de5-450f-9a37-8b79cb4b6ca3",
   "metadata": {},
   "outputs": [],
   "source": [
    "df = pd.read_csv('resident population_income_consumption_floating population.csv', encoding = 'utf-8')\n",
    "df.drop(['Unnamed: 0'], axis = 1, inplace = True)"
   ]
  },
  {
   "cell_type": "code",
   "execution_count": 6,
   "id": "0021789d-eff1-48cf-9f95-a244021d3d96",
   "metadata": {},
   "outputs": [
    {
     "data": {
      "text/plain": [
       "Index(['district', 'Res_population_2015', 'Res_population_2016',\n",
       "       'Res_population_2017', 'Res_population_2018', 'Res_population_2019',\n",
       "       'Res_population_2020', 'Res_population_2021', 'population_2023',\n",
       "       'population_2024', 'Income_population', 'INCOME_TWO_TMW_INHBT_RATE',\n",
       "       'INCOME_THREE_TMW_INHBT_RATE', 'INCOME_FOUR_TMW_INHBT_RATE',\n",
       "       'INCOME_FIVE_TMW_INHBT_RATE', 'INCOME_SIX_TMW_INHBT_RATE',\n",
       "       'INCOME_SEVEN_TMW_INHBT_RATE', 'INCOME_SEVEN_TMW_ABOVE_INHBT_RATE',\n",
       "       'FRNR_ALL_EXPNDTR_PRICE', 'income_all', 'floating_population'],\n",
       "      dtype='object')"
      ]
     },
     "execution_count": 6,
     "metadata": {},
     "output_type": "execute_result"
    }
   ],
   "source": [
    "df.columns"
   ]
  },
  {
   "cell_type": "code",
   "execution_count": 7,
   "id": "4159258f-6604-4f59-998d-917538994b8b",
   "metadata": {},
   "outputs": [],
   "source": [
    "select_columns = ['INCOME_TWO_TMW_INHBT_RATE', 'INCOME_THREE_TMW_INHBT_RATE', 'INCOME_FOUR_TMW_INHBT_RATE',\n",
    "                 'INCOME_FIVE_TMW_INHBT_RATE', 'INCOME_SIX_TMW_INHBT_RATE',\n",
    "       'INCOME_SEVEN_TMW_INHBT_RATE', 'INCOME_SEVEN_TMW_ABOVE_INHBT_RATE','income_all']"
   ]
  },
  {
   "cell_type": "markdown",
   "id": "10d89e7a-9436-4789-a098-dc6b863d155a",
   "metadata": {},
   "source": [
    "* income all = (외국인 유동인구 * 0.3) + (외국인 상주인구 * 0.3) + (외국인 소득 비율 * 0.4)"
   ]
  },
  {
   "cell_type": "code",
   "execution_count": 8,
   "id": "4838f33f-39e2-4a3f-a6f2-682485ae63bc",
   "metadata": {},
   "outputs": [],
   "source": [
    "df = df[select_columns]"
   ]
  },
  {
   "cell_type": "code",
   "execution_count": 15,
   "id": "d08dae12-051c-40eb-8564-217ebe66a859",
   "metadata": {},
   "outputs": [],
   "source": [
    "df = df.dropna()"
   ]
  },
  {
   "cell_type": "code",
   "execution_count": 19,
   "id": "c0204f5c-441a-4dcc-9a52-6f8b8b821bfe",
   "metadata": {},
   "outputs": [
    {
     "name": "stdout",
     "output_type": "stream",
     "text": [
      "R-squared (R^2): 0.8666758779925884\n"
     ]
    }
   ],
   "source": [
    "# 특성 변수 (독립 변수)\n",
    "X = df.drop('income_all', axis=1)\n",
    "\n",
    "# 타깃 변수 (종속 변수)\n",
    "y = df['income_all']\n",
    "\n",
    "# 랜덤 포레스트 모델 생성\n",
    "rf_model = RandomForestRegressor(n_estimators=100, random_state=42)  # 100개의 트리를 사용\n",
    "\n",
    "# 모델 훈련\n",
    "rf_model.fit(X, y)\n",
    "\n",
    "# 예측\n",
    "y_pred = rf_model.predict(X)\n",
    "\n",
    "# 모델 평가 (예를 들어, 평균 제곱 오차 및 R-squared)\n",
    "r2 = r2_score(y, y_pred)\n",
    "print(f\"R-squared (R^2): {r2}\")\n"
   ]
  },
  {
   "cell_type": "code",
   "execution_count": null,
   "id": "1e44e4e6-cd8a-44b6-b6cd-1dc8e4d9ea54",
   "metadata": {},
   "outputs": [],
   "source": []
  }
 ],
 "metadata": {
  "kernelspec": {
   "display_name": "Python 3 (ipykernel)",
   "language": "python",
   "name": "python3"
  },
  "language_info": {
   "codemirror_mode": {
    "name": "ipython",
    "version": 3
   },
   "file_extension": ".py",
   "mimetype": "text/x-python",
   "name": "python",
   "nbconvert_exporter": "python",
   "pygments_lexer": "ipython3",
   "version": "3.9.13"
  }
 },
 "nbformat": 4,
 "nbformat_minor": 5
}
